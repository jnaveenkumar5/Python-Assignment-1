{
 "cells": [
  {
   "cell_type": "code",
   "execution_count": 1,
   "id": "963ee303-2e1f-4fa1-bfd8-c57549a8f0f5",
   "metadata": {},
   "outputs": [
    {
     "name": "stdout",
     "output_type": "stream",
     "text": [
      "(10, 20, 30)\n",
      "(40, 50, 60)\n"
     ]
    }
   ],
   "source": [
    "# 1\n",
    "tuple1=(10,20,30)\n",
    "print(tuple1)\n",
    "tuple2=(40,50,60)\n",
    "print(tuple2)"
   ]
  },
  {
   "cell_type": "code",
   "execution_count": 3,
   "id": "a3804cba-5436-4102-97fb-5399e609f8c3",
   "metadata": {},
   "outputs": [
    {
     "name": "stdout",
     "output_type": "stream",
     "text": [
      "(10, 20, 30, 40, 50, 60)\n"
     ]
    }
   ],
   "source": [
    "# 1.a\n",
    "t_combine=tuple1+tuple2\n",
    "print(t_combine)"
   ]
  },
  {
   "cell_type": "code",
   "execution_count": 5,
   "id": "ac8869be-bfa5-4066-947f-f5907824b11c",
   "metadata": {},
   "outputs": [
    {
     "name": "stdout",
     "output_type": "stream",
     "text": [
      "(10, 20, 30, 40, 50, 60, 10, 20, 30, 40, 50, 60, 10, 20, 30, 40, 50, 60)\n"
     ]
    }
   ],
   "source": [
    "# 1.b\n",
    "repeat3=t_combine*3\n",
    "print(repeat3)"
   ]
  },
  {
   "cell_type": "code",
   "execution_count": 7,
   "id": "f5bf743e-d392-4042-a291-b8b3bb206949",
   "metadata": {},
   "outputs": [
    {
     "name": "stdout",
     "output_type": "stream",
     "text": [
      "30\n"
     ]
    }
   ],
   "source": [
    "# 1.c\n",
    "print(t_combine[2])"
   ]
  },
  {
   "cell_type": "code",
   "execution_count": 9,
   "id": "df7924dc-d9ce-43de-9cf9-69d15fc33613",
   "metadata": {},
   "outputs": [
    {
     "name": "stdout",
     "output_type": "stream",
     "text": [
      "(10, 20, 30)\n"
     ]
    }
   ],
   "source": [
    "# 1.d\n",
    "print(t_combine[0:3])"
   ]
  },
  {
   "cell_type": "code",
   "execution_count": 55,
   "id": "a7142d03-8b1e-485b-be23-d78a9351aeca",
   "metadata": {},
   "outputs": [
    {
     "name": "stdout",
     "output_type": "stream",
     "text": [
      "(40, 50, 60)\n",
      "(40, 50, 60)\n"
     ]
    }
   ],
   "source": [
    "# 1.e\n",
    "print(t_combine[-3:])\n",
    "print(t_combine[3:])"
   ]
  },
  {
   "cell_type": "code",
   "execution_count": 83,
   "id": "47fb9fd0-669b-465a-b529-c24394e908a6",
   "metadata": {},
   "outputs": [
    {
     "name": "stdout",
     "output_type": "stream",
     "text": [
      "[(1, 2, 3), ('a', 'b', 'c'), (True, False)]\n"
     ]
    }
   ],
   "source": [
    "# 2.a,b,c\n",
    "my_list=[(1,2,3),(\"a\",\"b\",\"c\"),(True,False)]\n",
    "print(my_list)"
   ]
  },
  {
   "cell_type": "code",
   "execution_count": 85,
   "id": "5b524d45-56b1-410e-87d2-66017af64434",
   "metadata": {},
   "outputs": [
    {
     "name": "stdout",
     "output_type": "stream",
     "text": [
      "[(1, 2, 3), ('a', 'b', 'c'), (True, False), (1, 'a', True)]\n"
     ]
    }
   ],
   "source": [
    "# 3\n",
    "new_tuple=(1,'a',True)\n",
    "my_list.append(new_tuple)\n",
    "print(my_list)\n"
   ]
  },
  {
   "cell_type": "code",
   "execution_count": 91,
   "id": "b16c0730-41ce-4aa1-b907-87d8e9dcdb97",
   "metadata": {},
   "outputs": [
    {
     "name": "stdout",
     "output_type": "stream",
     "text": [
      "[(1, 2, 3), ('a', 'b', 'c'), (True, False), (1, 'a', True), ['Sparta', 123]]\n"
     ]
    }
   ],
   "source": [
    "# 3.a\n",
    "new_list=[\"Sparta\",123]\n",
    "my_list.append(new_list)\n",
    "print(my_list)\n"
   ]
  },
  {
   "cell_type": "code",
   "execution_count": 127,
   "id": "61183dc4-7aad-4653-b86d-759228d6a12b",
   "metadata": {},
   "outputs": [
    {
     "name": "stdout",
     "output_type": "stream",
     "text": [
      "{'Fruit': ('Apple', 'Banana', 'Mango', 'Guava'), 'Cost': (85, 54, 120, 70)}\n"
     ]
    }
   ],
   "source": [
    "# 4.a,b\n",
    "fruit={'Fruit':(\"Apple\",\"Banana\",\"Mango\",\"Guava\"),'Cost':(85,54,120,70)}\n",
    "print(fruit)"
   ]
  },
  {
   "cell_type": "code",
   "execution_count": 129,
   "id": "6156164f-4afe-4cf9-b093-d7d4a9b4abc2",
   "metadata": {},
   "outputs": [
    {
     "name": "stdout",
     "output_type": "stream",
     "text": [
      "dict_keys(['Fruit', 'Cost'])\n",
      "dict_values([('Apple', 'Banana', 'Mango', 'Guava'), (85, 54, 120, 70)])\n"
     ]
    }
   ],
   "source": [
    "# 4.c,d\n",
    "print(fruit.keys())\n",
    "print(fruit.values())"
   ]
  },
  {
   "cell_type": "code",
   "execution_count": 131,
   "id": "93c0af74-e35b-4437-b32c-333a797db2a2",
   "metadata": {},
   "outputs": [
    {
     "name": "stdout",
     "output_type": "stream",
     "text": [
      "('Apple', 'Banana', 'Mango', 'Guava')\n",
      "(85, 54, 120, 70)\n"
     ]
    }
   ],
   "source": [
    "print(fruit.get('Fruit'))\n",
    "print(fruit.get('Cost'))"
   ]
  },
  {
   "cell_type": "code",
   "execution_count": 133,
   "id": "1d18b4f2-0a58-41c0-a3e6-e43c9e66ab1a",
   "metadata": {},
   "outputs": [
    {
     "name": "stdout",
     "output_type": "stream",
     "text": [
      "{1, 'a'}\n"
     ]
    }
   ],
   "source": [
    "# 5\n",
    "my_set={1,1,\"a\",\"a\",True,True} # Boolean values (True and False) are treated as integers (1 and 0) in Python.\n",
    "print(my_set) # True is equivalent to 1, and False is equivalent to 0.Since 1 is already in the set, True is not added as a separate element."
   ]
  }
 ],
 "metadata": {
  "kernelspec": {
   "display_name": "Python [conda env:base] *",
   "language": "python",
   "name": "conda-base-py"
  },
  "language_info": {
   "codemirror_mode": {
    "name": "ipython",
    "version": 3
   },
   "file_extension": ".py",
   "mimetype": "text/x-python",
   "name": "python",
   "nbconvert_exporter": "python",
   "pygments_lexer": "ipython3",
   "version": "3.12.7"
  }
 },
 "nbformat": 4,
 "nbformat_minor": 5
}
